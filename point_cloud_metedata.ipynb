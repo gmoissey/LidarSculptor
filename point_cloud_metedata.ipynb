{
 "cells": [
  {
   "cell_type": "code",
   "execution_count": 1,
   "metadata": {},
   "outputs": [
    {
     "ename": "FileNotFoundError",
     "evalue": "[Errno 2] No such file or directory: 'file.las'",
     "output_type": "error",
     "traceback": [
      "\u001b[0;31m---------------------------------------------------------------------------\u001b[0m",
      "\u001b[0;31mFileNotFoundError\u001b[0m                         Traceback (most recent call last)",
      "\u001b[1;32m/Users/gleb/Documents/lidar-simulating/point_cloud_metedata.ipynb Cell 1\u001b[0m line \u001b[0;36m6\n\u001b[1;32m      <a href='vscode-notebook-cell:/Users/gleb/Documents/lidar-simulating/point_cloud_metedata.ipynb#W0sZmlsZQ%3D%3D?line=2'>3</a>\u001b[0m \u001b[39mfrom\u001b[39;00m \u001b[39mmpl_toolkits\u001b[39;00m\u001b[39m.\u001b[39;00m\u001b[39mmplot3d\u001b[39;00m \u001b[39mimport\u001b[39;00m Axes3D\n\u001b[1;32m      <a href='vscode-notebook-cell:/Users/gleb/Documents/lidar-simulating/point_cloud_metedata.ipynb#W0sZmlsZQ%3D%3D?line=4'>5</a>\u001b[0m \u001b[39m# Load the LAS file\u001b[39;00m\n\u001b[0;32m----> <a href='vscode-notebook-cell:/Users/gleb/Documents/lidar-simulating/point_cloud_metedata.ipynb#W0sZmlsZQ%3D%3D?line=5'>6</a>\u001b[0m \u001b[39mwith\u001b[39;00m pylas\u001b[39m.\u001b[39;49mopen(\u001b[39m'\u001b[39;49m\u001b[39mfile.las\u001b[39;49m\u001b[39m'\u001b[39;49m) \u001b[39mas\u001b[39;00m fh:\n\u001b[1;32m      <a href='vscode-notebook-cell:/Users/gleb/Documents/lidar-simulating/point_cloud_metedata.ipynb#W0sZmlsZQ%3D%3D?line=6'>7</a>\u001b[0m     las \u001b[39m=\u001b[39m fh\u001b[39m.\u001b[39mread()\n\u001b[1;32m      <a href='vscode-notebook-cell:/Users/gleb/Documents/lidar-simulating/point_cloud_metedata.ipynb#W0sZmlsZQ%3D%3D?line=8'>9</a>\u001b[0m \u001b[39m# Create a 3D scatter plot\u001b[39;00m\n",
      "File \u001b[0;32m~/Documents/lidar-simulating/venv/lib/python3.11/site-packages/pylas/lib.py:59\u001b[0m, in \u001b[0;36mopen_las\u001b[0;34m(source, closefd)\u001b[0m\n\u001b[1;32m     21\u001b[0m \u001b[39m\u001b[39m\u001b[39m\"\"\" Opens and reads the header of the las content in the source\u001b[39;00m\n\u001b[1;32m     22\u001b[0m \n\u001b[1;32m     23\u001b[0m \u001b[39m    >>> with open_las('pylastests/simple.las') as f:\u001b[39;00m\n\u001b[0;32m   (...)\u001b[0m\n\u001b[1;32m     56\u001b[0m \n\u001b[1;32m     57\u001b[0m \u001b[39m\"\"\"\u001b[39;00m\n\u001b[1;32m     58\u001b[0m \u001b[39mif\u001b[39;00m \u001b[39misinstance\u001b[39m(source, \u001b[39mstr\u001b[39m):\n\u001b[0;32m---> 59\u001b[0m     stream \u001b[39m=\u001b[39m \u001b[39mopen\u001b[39;49m(source, mode\u001b[39m=\u001b[39;49m\u001b[39m\"\u001b[39;49m\u001b[39mrb\u001b[39;49m\u001b[39m\"\u001b[39;49m)\n\u001b[1;32m     60\u001b[0m     \u001b[39mif\u001b[39;00m \u001b[39mnot\u001b[39;00m closefd:\n\u001b[1;32m     61\u001b[0m         \u001b[39mraise\u001b[39;00m \u001b[39mValueError\u001b[39;00m(\u001b[39m\"\u001b[39m\u001b[39mCannot use closefd with filename\u001b[39m\u001b[39m\"\u001b[39m)\n",
      "\u001b[0;31mFileNotFoundError\u001b[0m: [Errno 2] No such file or directory: 'file.las'"
     ]
    }
   ],
   "source": [
    "import pylas\n",
    "import matplotlib.pyplot as plt\n",
    "from mpl_toolkits.mplot3d import Axes3D\n",
    "\n",
    "# Load the LAS file\n",
    "with pylas.open('file.las') as fh:\n",
    "    las = fh.read()\n",
    "\n",
    "# Create a 3D scatter plot\n",
    "fig = plt.figure()\n",
    "ax = fig.add_subplot(111, projection='3d')\n",
    "ax.scatter(las.x, las.y, las.z, c='b', marker='o', s=0.1)  # Plot the point cloud\n",
    "\n",
    "# Assume we have the scanner's position in variables scanner_x, scanner_y, scanner_z\n",
    "# Highlight the scanner's position\n",
    "scanner_x, scanner_y, scanner_z = 0, 0, 0  # Replace with actual coordinates\n",
    "ax.scatter(scanner_x, scanner_y, scanner_z, c='r', marker='o', s=50)  # Highlight the scanner's position\n",
    "\n",
    "# Show the plot\n",
    "plt.show()"
   ]
  }
 ],
 "metadata": {
  "kernelspec": {
   "display_name": "venv",
   "language": "python",
   "name": "python3"
  },
  "language_info": {
   "codemirror_mode": {
    "name": "ipython",
    "version": 3
   },
   "file_extension": ".py",
   "mimetype": "text/x-python",
   "name": "python",
   "nbconvert_exporter": "python",
   "pygments_lexer": "ipython3",
   "version": "3.11.4"
  },
  "orig_nbformat": 4
 },
 "nbformat": 4,
 "nbformat_minor": 2
}
